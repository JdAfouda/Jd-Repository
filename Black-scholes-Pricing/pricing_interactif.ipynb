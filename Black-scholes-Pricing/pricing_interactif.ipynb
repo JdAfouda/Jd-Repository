import numpy as np
from scipy.stats import norm
import matplotlib.pyplot as plt
import ipywidgets as widgets
from IPython.display import display

def black_scholes_price(S, K, T, r, sigma, option='call'):
d1 = (np.log(S/K) + (r + 0.5*sigma**2)*T) / (sigma * np.sqrt(T))
d2 = d1 - sigma * np.sqrt(T)
if option == 'call':
return S * norm.cdf(d1) - K * np.exp(-r*T) * norm.cdf(d2)
else:
return K * np.exp(-r*T) * norm.cdf(-d2) - S * norm.cdf(-d1)

def interactive_pricing():
S = widgets.FloatSlider(value=100, min=50, max=150, step=1, description='Spot:')
K = widgets.FloatSlider(value=100, min=50, max=150, step=1, description='Strike:')
T = widgets.FloatSlider(value=1, min=0.1, max=3, step=0.1, description='Maturity:')
r = widgets.FloatSlider(value=0.01, min=0, max=0.1, step=0.001, description='Rate:')
sigma = widgets.FloatSlider(value=0.2, min=0.05, max=1, step=0.01, description='Vol:')
option = widgets.Dropdown(options=['call', 'put'], description='Option:')

ui = widgets.VBox([S, K, T, r, sigma, option])

def update_price(S, K, T, r, sigma, option):
price = black_scholes_price(S, K, T, r, sigma, option)
print(f"Black-Scholes {option} price: {price:.2f}")

out = widgets.interactive_output(update_price, {'S': S, 'K': K, 'T': T, 'r': r, 'sigma': sigma, 'option': option})
display(ui, out)

interactive_pricing()
